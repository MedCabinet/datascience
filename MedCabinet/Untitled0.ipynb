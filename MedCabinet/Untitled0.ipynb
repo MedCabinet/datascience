{
 "cells": [
  {
   "cell_type": "code",
   "execution_count": 1,
   "metadata": {
    "id": "u50QLBDD1ORj"
   },
   "outputs": [],
   "source": [
    "import pandas as pd\n",
    "\n",
    "everyday_df = pd.read_csv('Cannabis_Strains_Features.csv')"
   ]
  },
  {
   "cell_type": "code",
   "execution_count": 2,
   "metadata": {
    "colab": {
     "base_uri": "https://localhost:8080/",
     "height": 206
    },
    "id": "Ny3VcyZn189Y",
    "outputId": "5660bc55-7a16-4c01-b590-d9bc42e5a159"
   },
   "outputs": [
    {
     "data": {
      "text/html": [
       "<div>\n",
       "<style scoped>\n",
       "    .dataframe tbody tr th:only-of-type {\n",
       "        vertical-align: middle;\n",
       "    }\n",
       "\n",
       "    .dataframe tbody tr th {\n",
       "        vertical-align: top;\n",
       "    }\n",
       "\n",
       "    .dataframe thead th {\n",
       "        text-align: right;\n",
       "    }\n",
       "</style>\n",
       "<table border=\"1\" class=\"dataframe\">\n",
       "  <thead>\n",
       "    <tr style=\"text-align: right;\">\n",
       "      <th></th>\n",
       "      <th>Strain</th>\n",
       "      <th>Type</th>\n",
       "      <th>Rating</th>\n",
       "      <th>Effects</th>\n",
       "      <th>Flavor</th>\n",
       "      <th>Description</th>\n",
       "    </tr>\n",
       "  </thead>\n",
       "  <tbody>\n",
       "    <tr>\n",
       "      <th>0</th>\n",
       "      <td>100-Og</td>\n",
       "      <td>hybrid</td>\n",
       "      <td>4.0</td>\n",
       "      <td>Creative,Energetic,Tingly,Euphoric,Relaxed</td>\n",
       "      <td>Earthy,Sweet,Citrus</td>\n",
       "      <td>$100 OG is a 50/50 hybrid strain that packs a ...</td>\n",
       "    </tr>\n",
       "    <tr>\n",
       "      <th>1</th>\n",
       "      <td>98-White-Widow</td>\n",
       "      <td>hybrid</td>\n",
       "      <td>4.7</td>\n",
       "      <td>Relaxed,Aroused,Creative,Happy,Energetic</td>\n",
       "      <td>Flowery,Violet,Diesel</td>\n",
       "      <td>The ‘98 Aloha White Widow is an especially pot...</td>\n",
       "    </tr>\n",
       "    <tr>\n",
       "      <th>2</th>\n",
       "      <td>1024</td>\n",
       "      <td>sativa</td>\n",
       "      <td>4.4</td>\n",
       "      <td>Uplifted,Happy,Relaxed,Energetic,Creative</td>\n",
       "      <td>Spicy/Herbal,Sage,Woody</td>\n",
       "      <td>1024 is a sativa-dominant hybrid bred in Spain...</td>\n",
       "    </tr>\n",
       "    <tr>\n",
       "      <th>3</th>\n",
       "      <td>13-Dawgs</td>\n",
       "      <td>hybrid</td>\n",
       "      <td>4.2</td>\n",
       "      <td>Tingly,Creative,Hungry,Relaxed,Uplifted</td>\n",
       "      <td>Apricot,Citrus,Grapefruit</td>\n",
       "      <td>13 Dawgs is a hybrid of G13 and Chemdawg genet...</td>\n",
       "    </tr>\n",
       "    <tr>\n",
       "      <th>4</th>\n",
       "      <td>24K-Gold</td>\n",
       "      <td>hybrid</td>\n",
       "      <td>4.6</td>\n",
       "      <td>Happy,Relaxed,Euphoric,Uplifted,Talkative</td>\n",
       "      <td>Citrus,Earthy,Orange</td>\n",
       "      <td>Also known as Kosher Tangie, 24k Gold is a 60%...</td>\n",
       "    </tr>\n",
       "  </tbody>\n",
       "</table>\n",
       "</div>"
      ],
      "text/plain": [
       "           Strain    Type  Rating                                     Effects  \\\n",
       "0          100-Og  hybrid     4.0  Creative,Energetic,Tingly,Euphoric,Relaxed   \n",
       "1  98-White-Widow  hybrid     4.7    Relaxed,Aroused,Creative,Happy,Energetic   \n",
       "2            1024  sativa     4.4   Uplifted,Happy,Relaxed,Energetic,Creative   \n",
       "3        13-Dawgs  hybrid     4.2     Tingly,Creative,Hungry,Relaxed,Uplifted   \n",
       "4        24K-Gold  hybrid     4.6   Happy,Relaxed,Euphoric,Uplifted,Talkative   \n",
       "\n",
       "                      Flavor  \\\n",
       "0        Earthy,Sweet,Citrus   \n",
       "1      Flowery,Violet,Diesel   \n",
       "2    Spicy/Herbal,Sage,Woody   \n",
       "3  Apricot,Citrus,Grapefruit   \n",
       "4       Citrus,Earthy,Orange   \n",
       "\n",
       "                                         Description  \n",
       "0  $100 OG is a 50/50 hybrid strain that packs a ...  \n",
       "1  The ‘98 Aloha White Widow is an especially pot...  \n",
       "2  1024 is a sativa-dominant hybrid bred in Spain...  \n",
       "3  13 Dawgs is a hybrid of G13 and Chemdawg genet...  \n",
       "4  Also known as Kosher Tangie, 24k Gold is a 60%...  "
      ]
     },
     "execution_count": 2,
     "metadata": {},
     "output_type": "execute_result"
    }
   ],
   "source": [
    "everyday_df.head()"
   ]
  },
  {
   "cell_type": "code",
   "execution_count": 3,
   "metadata": {
    "colab": {
     "base_uri": "https://localhost:8080/"
    },
    "id": "7CoeluOIBHZ8",
    "outputId": "7afc6b2a-2238-4623-c4fd-d6816372b1eb"
   },
   "outputs": [
    {
     "name": "stdout",
     "output_type": "stream",
     "text": [
      "/bin/bash: python: command not found\n"
     ]
    }
   ],
   "source": [
    "!python -m spacy download en_core_web_lg"
   ]
  },
  {
   "cell_type": "code",
   "execution_count": 4,
   "metadata": {
    "id": "iVzqT5vpEQRz"
   },
   "outputs": [],
   "source": [
    "from sklearn.feature_extraction.text import CountVectorizer, TfidfVectorizer\n",
    "\n",
    "import spacy\n",
    "nlp = spacy.load(\"en_core_web_lg\")"
   ]
  },
  {
   "cell_type": "code",
   "execution_count": 5,
   "metadata": {
    "id": "87ptsrveNlPK"
   },
   "outputs": [],
   "source": [
    "def tokenize(doc):\n",
    "  lemmas = []\n",
    "    \n",
    "  doc = nlp(doc)\n",
    "    \n",
    "  for token in doc: \n",
    "    if ((token.is_stop == False) and (token.is_punct == False) and (token.pos_ != 'PRON')):\n",
    "      lemmas.append(token.lemma_)\n",
    "  \n",
    "  return lemmas\n",
    "\n",
    "everyday_df['Description_2'] = everyday_df['Description'].apply(tokenize)"
   ]
  },
  {
   "cell_type": "code",
   "execution_count": 6,
   "metadata": {
    "colab": {
     "base_uri": "https://localhost:8080/"
    },
    "id": "CzyHHCWBPRAE",
    "outputId": "a5ff9aa5-1a12-465b-d99c-c7b9ca805254"
   },
   "outputs": [
    {
     "name": "stderr",
     "output_type": "stream",
     "text": [
      "<ipython-input-6-21fa107fb388>:3: SettingWithCopyWarning: \n",
      "A value is trying to be set on a copy of a slice from a DataFrame\n",
      "\n",
      "See the caveats in the documentation: https://pandas.pydata.org/pandas-docs/stable/user_guide/indexing.html#returning-a-view-versus-a-copy\n",
      "  everyday_df['bow_col'][i] = everyday_df['Effects'][i].split(\",\") + everyday_df['Flavor'][i].split(\",\") + everyday_df['Description_2'][i]\n"
     ]
    }
   ],
   "source": [
    "everyday_df['bow_col'] = \"string\"\n",
    "for i in range(0, len(everyday_df['Effects'])):\n",
    "  everyday_df['bow_col'][i] = everyday_df['Effects'][i].split(\",\") + everyday_df['Flavor'][i].split(\",\") + everyday_df['Description_2'][i]"
   ]
  },
  {
   "cell_type": "code",
   "execution_count": 7,
   "metadata": {
    "colab": {
     "base_uri": "https://localhost:8080/",
     "height": 380
    },
    "id": "giVphhXkPkOK",
    "outputId": "7e4f9323-e0d1-4bc9-b28e-cb7a8a8a11ff"
   },
   "outputs": [
    {
     "data": {
      "text/html": [
       "<div>\n",
       "<style scoped>\n",
       "    .dataframe tbody tr th:only-of-type {\n",
       "        vertical-align: middle;\n",
       "    }\n",
       "\n",
       "    .dataframe tbody tr th {\n",
       "        vertical-align: top;\n",
       "    }\n",
       "\n",
       "    .dataframe thead th {\n",
       "        text-align: right;\n",
       "    }\n",
       "</style>\n",
       "<table border=\"1\" class=\"dataframe\">\n",
       "  <thead>\n",
       "    <tr style=\"text-align: right;\">\n",
       "      <th></th>\n",
       "      <th>Strain</th>\n",
       "      <th>Type</th>\n",
       "      <th>Rating</th>\n",
       "      <th>Effects</th>\n",
       "      <th>Flavor</th>\n",
       "      <th>Description</th>\n",
       "      <th>Description_2</th>\n",
       "      <th>bow_col</th>\n",
       "    </tr>\n",
       "  </thead>\n",
       "  <tbody>\n",
       "    <tr>\n",
       "      <th>0</th>\n",
       "      <td>100-Og</td>\n",
       "      <td>hybrid</td>\n",
       "      <td>4.0</td>\n",
       "      <td>Creative,Energetic,Tingly,Euphoric,Relaxed</td>\n",
       "      <td>Earthy,Sweet,Citrus</td>\n",
       "      <td>$100 OG is a 50/50 hybrid strain that packs a ...</td>\n",
       "      <td>[$, 100, OG, 50/50, hybrid, strain, pack, stro...</td>\n",
       "      <td>[Creative, Energetic, Tingly, Euphoric, Relaxe...</td>\n",
       "    </tr>\n",
       "    <tr>\n",
       "      <th>1</th>\n",
       "      <td>98-White-Widow</td>\n",
       "      <td>hybrid</td>\n",
       "      <td>4.7</td>\n",
       "      <td>Relaxed,Aroused,Creative,Happy,Energetic</td>\n",
       "      <td>Flowery,Violet,Diesel</td>\n",
       "      <td>The ‘98 Aloha White Widow is an especially pot...</td>\n",
       "      <td>[98, Aloha, White, Widow, especially, potent, ...</td>\n",
       "      <td>[Relaxed, Aroused, Creative, Happy, Energetic,...</td>\n",
       "    </tr>\n",
       "    <tr>\n",
       "      <th>2</th>\n",
       "      <td>1024</td>\n",
       "      <td>sativa</td>\n",
       "      <td>4.4</td>\n",
       "      <td>Uplifted,Happy,Relaxed,Energetic,Creative</td>\n",
       "      <td>Spicy/Herbal,Sage,Woody</td>\n",
       "      <td>1024 is a sativa-dominant hybrid bred in Spain...</td>\n",
       "      <td>[1024, sativa, dominant, hybrid, breed, Spain,...</td>\n",
       "      <td>[Uplifted, Happy, Relaxed, Energetic, Creative...</td>\n",
       "    </tr>\n",
       "    <tr>\n",
       "      <th>3</th>\n",
       "      <td>13-Dawgs</td>\n",
       "      <td>hybrid</td>\n",
       "      <td>4.2</td>\n",
       "      <td>Tingly,Creative,Hungry,Relaxed,Uplifted</td>\n",
       "      <td>Apricot,Citrus,Grapefruit</td>\n",
       "      <td>13 Dawgs is a hybrid of G13 and Chemdawg genet...</td>\n",
       "      <td>[13, Dawgs, hybrid, G13, Chemdawg, genetic, br...</td>\n",
       "      <td>[Tingly, Creative, Hungry, Relaxed, Uplifted, ...</td>\n",
       "    </tr>\n",
       "    <tr>\n",
       "      <th>4</th>\n",
       "      <td>24K-Gold</td>\n",
       "      <td>hybrid</td>\n",
       "      <td>4.6</td>\n",
       "      <td>Happy,Relaxed,Euphoric,Uplifted,Talkative</td>\n",
       "      <td>Citrus,Earthy,Orange</td>\n",
       "      <td>Also known as Kosher Tangie, 24k Gold is a 60%...</td>\n",
       "      <td>[know, Kosher, Tangie, 24k, gold, 60, indica, ...</td>\n",
       "      <td>[Happy, Relaxed, Euphoric, Uplifted, Talkative...</td>\n",
       "    </tr>\n",
       "  </tbody>\n",
       "</table>\n",
       "</div>"
      ],
      "text/plain": [
       "           Strain    Type  Rating                                     Effects  \\\n",
       "0          100-Og  hybrid     4.0  Creative,Energetic,Tingly,Euphoric,Relaxed   \n",
       "1  98-White-Widow  hybrid     4.7    Relaxed,Aroused,Creative,Happy,Energetic   \n",
       "2            1024  sativa     4.4   Uplifted,Happy,Relaxed,Energetic,Creative   \n",
       "3        13-Dawgs  hybrid     4.2     Tingly,Creative,Hungry,Relaxed,Uplifted   \n",
       "4        24K-Gold  hybrid     4.6   Happy,Relaxed,Euphoric,Uplifted,Talkative   \n",
       "\n",
       "                      Flavor  \\\n",
       "0        Earthy,Sweet,Citrus   \n",
       "1      Flowery,Violet,Diesel   \n",
       "2    Spicy/Herbal,Sage,Woody   \n",
       "3  Apricot,Citrus,Grapefruit   \n",
       "4       Citrus,Earthy,Orange   \n",
       "\n",
       "                                         Description  \\\n",
       "0  $100 OG is a 50/50 hybrid strain that packs a ...   \n",
       "1  The ‘98 Aloha White Widow is an especially pot...   \n",
       "2  1024 is a sativa-dominant hybrid bred in Spain...   \n",
       "3  13 Dawgs is a hybrid of G13 and Chemdawg genet...   \n",
       "4  Also known as Kosher Tangie, 24k Gold is a 60%...   \n",
       "\n",
       "                                       Description_2  \\\n",
       "0  [$, 100, OG, 50/50, hybrid, strain, pack, stro...   \n",
       "1  [98, Aloha, White, Widow, especially, potent, ...   \n",
       "2  [1024, sativa, dominant, hybrid, breed, Spain,...   \n",
       "3  [13, Dawgs, hybrid, G13, Chemdawg, genetic, br...   \n",
       "4  [know, Kosher, Tangie, 24k, gold, 60, indica, ...   \n",
       "\n",
       "                                             bow_col  \n",
       "0  [Creative, Energetic, Tingly, Euphoric, Relaxe...  \n",
       "1  [Relaxed, Aroused, Creative, Happy, Energetic,...  \n",
       "2  [Uplifted, Happy, Relaxed, Energetic, Creative...  \n",
       "3  [Tingly, Creative, Hungry, Relaxed, Uplifted, ...  \n",
       "4  [Happy, Relaxed, Euphoric, Uplifted, Talkative...  "
      ]
     },
     "execution_count": 7,
     "metadata": {},
     "output_type": "execute_result"
    }
   ],
   "source": [
    "everyday_df.head()"
   ]
  },
  {
   "cell_type": "code",
   "execution_count": 8,
   "metadata": {
    "colab": {
     "base_uri": "https://localhost:8080/"
    },
    "id": "JrvdOg4_P0N5",
    "outputId": "4d8f40c9-50e1-4669-bc1a-38e0573a9289"
   },
   "outputs": [
    {
     "data": {
      "text/plain": [
       "['Creative',\n",
       " 'Energetic',\n",
       " 'Tingly',\n",
       " 'Euphoric',\n",
       " 'Relaxed',\n",
       " 'Earthy',\n",
       " 'Sweet',\n",
       " 'Citrus',\n",
       " '$',\n",
       " '100',\n",
       " 'OG',\n",
       " '50/50',\n",
       " 'hybrid',\n",
       " 'strain',\n",
       " 'pack',\n",
       " 'strong',\n",
       " 'punch',\n",
       " 'supposedly',\n",
       " 'refer',\n",
       " 'strength',\n",
       " 'high',\n",
       " 'price',\n",
       " 'start',\n",
       " 'show',\n",
       " 'Hollywood',\n",
       " 'plant',\n",
       " '$',\n",
       " '100',\n",
       " 'OG',\n",
       " 'tend',\n",
       " 'produce',\n",
       " 'large',\n",
       " 'dark',\n",
       " 'green',\n",
       " 'bud',\n",
       " 'stem',\n",
       " 'user',\n",
       " 'report',\n",
       " 'strong',\n",
       " 'body',\n",
       " 'effect',\n",
       " 'indica',\n",
       " 'pain',\n",
       " 'relief',\n",
       " 'alert',\n",
       " 'cerebral',\n",
       " 'feeling',\n",
       " 'thank',\n",
       " 'sativa']"
      ]
     },
     "execution_count": 8,
     "metadata": {},
     "output_type": "execute_result"
    }
   ],
   "source": [
    "everyday_df['bow_col'][0]"
   ]
  },
  {
   "cell_type": "code",
   "execution_count": 9,
   "metadata": {
    "colab": {
     "base_uri": "https://localhost:8080/"
    },
    "id": "NuHrKuszQ6Zx",
    "outputId": "e89cd738-9b25-49fc-d6ae-48e567ae06f7"
   },
   "outputs": [
    {
     "data": {
      "text/plain": [
       "[('strain', 3020),\n",
       " ('  ', 2138),\n",
       " ('Happy', 1902),\n",
       " ('Relaxed', 1758),\n",
       " ('Euphoric', 1669),\n",
       " ('effect', 1596),\n",
       " ('Uplifted', 1535),\n",
       " ('indica', 1394),\n",
       " ('hybrid', 1311),\n",
       " ('Sweet', 1166)]"
      ]
     },
     "execution_count": 9,
     "metadata": {},
     "output_type": "execute_result"
    }
   ],
   "source": [
    "from collections import Counter\n",
    "\n",
    "word_counts = Counter()\n",
    "everyday_df['bow_col'].apply(lambda x: word_counts.update(x))\n",
    "word_counts.most_common(10)"
   ]
  },
  {
   "cell_type": "code",
   "execution_count": 10,
   "metadata": {
    "colab": {
     "base_uri": "https://localhost:8080/",
     "height": 291
    },
    "id": "OC2PRHNBQkt-",
    "outputId": "19f60b9d-f908-436e-87a3-34c4309bbdf4"
   },
   "outputs": [
    {
     "name": "stderr",
     "output_type": "stream",
     "text": [
      "/home/shuulaces/.local/lib/python3.8/site-packages/sklearn/feature_extraction/text.py:383: UserWarning: Your stop_words may be inconsistent with your preprocessing. Tokenizing the stop words generated tokens ['ll', 've'] not in stop_words.\n",
      "  warnings.warn('Your stop_words may be inconsistent with '\n"
     ]
    },
    {
     "data": {
      "text/html": [
       "<div>\n",
       "<style scoped>\n",
       "    .dataframe tbody tr th:only-of-type {\n",
       "        vertical-align: middle;\n",
       "    }\n",
       "\n",
       "    .dataframe tbody tr th {\n",
       "        vertical-align: top;\n",
       "    }\n",
       "\n",
       "    .dataframe thead th {\n",
       "        text-align: right;\n",
       "    }\n",
       "</style>\n",
       "<table border=\"1\" class=\"dataframe\">\n",
       "  <thead>\n",
       "    <tr style=\"text-align: right;\">\n",
       "      <th></th>\n",
       "      <th>10</th>\n",
       "      <th>11</th>\n",
       "      <th>12</th>\n",
       "      <th>13</th>\n",
       "      <th>14</th>\n",
       "      <th>15</th>\n",
       "      <th>18</th>\n",
       "      <th>1st</th>\n",
       "      <th>20</th>\n",
       "      <th>2012</th>\n",
       "      <th>...</th>\n",
       "      <th>woody</th>\n",
       "      <th>work</th>\n",
       "      <th>world</th>\n",
       "      <th>worth</th>\n",
       "      <th>wrap</th>\n",
       "      <th>wreck</th>\n",
       "      <th>xa0</th>\n",
       "      <th>year</th>\n",
       "      <th>yield</th>\n",
       "      <th>zesty</th>\n",
       "    </tr>\n",
       "  </thead>\n",
       "  <tbody>\n",
       "    <tr>\n",
       "      <th>0</th>\n",
       "      <td>0.0</td>\n",
       "      <td>0.0</td>\n",
       "      <td>0.0</td>\n",
       "      <td>0.000000</td>\n",
       "      <td>0.0</td>\n",
       "      <td>0.0</td>\n",
       "      <td>0.000000</td>\n",
       "      <td>0.000000</td>\n",
       "      <td>0.0</td>\n",
       "      <td>0.0</td>\n",
       "      <td>...</td>\n",
       "      <td>0.000000</td>\n",
       "      <td>0.0</td>\n",
       "      <td>0.0</td>\n",
       "      <td>0.0</td>\n",
       "      <td>0.0</td>\n",
       "      <td>0.0</td>\n",
       "      <td>0.0</td>\n",
       "      <td>0.0</td>\n",
       "      <td>0.0</td>\n",
       "      <td>0.0</td>\n",
       "    </tr>\n",
       "    <tr>\n",
       "      <th>1</th>\n",
       "      <td>0.0</td>\n",
       "      <td>0.0</td>\n",
       "      <td>0.0</td>\n",
       "      <td>0.000000</td>\n",
       "      <td>0.0</td>\n",
       "      <td>0.0</td>\n",
       "      <td>0.000000</td>\n",
       "      <td>0.121432</td>\n",
       "      <td>0.0</td>\n",
       "      <td>0.0</td>\n",
       "      <td>...</td>\n",
       "      <td>0.000000</td>\n",
       "      <td>0.0</td>\n",
       "      <td>0.0</td>\n",
       "      <td>0.0</td>\n",
       "      <td>0.0</td>\n",
       "      <td>0.0</td>\n",
       "      <td>0.0</td>\n",
       "      <td>0.0</td>\n",
       "      <td>0.0</td>\n",
       "      <td>0.0</td>\n",
       "    </tr>\n",
       "    <tr>\n",
       "      <th>2</th>\n",
       "      <td>0.0</td>\n",
       "      <td>0.0</td>\n",
       "      <td>0.0</td>\n",
       "      <td>0.000000</td>\n",
       "      <td>0.0</td>\n",
       "      <td>0.0</td>\n",
       "      <td>0.000000</td>\n",
       "      <td>0.000000</td>\n",
       "      <td>0.0</td>\n",
       "      <td>0.0</td>\n",
       "      <td>...</td>\n",
       "      <td>0.117434</td>\n",
       "      <td>0.0</td>\n",
       "      <td>0.0</td>\n",
       "      <td>0.0</td>\n",
       "      <td>0.0</td>\n",
       "      <td>0.0</td>\n",
       "      <td>0.0</td>\n",
       "      <td>0.0</td>\n",
       "      <td>0.0</td>\n",
       "      <td>0.0</td>\n",
       "    </tr>\n",
       "    <tr>\n",
       "      <th>3</th>\n",
       "      <td>0.0</td>\n",
       "      <td>0.0</td>\n",
       "      <td>0.0</td>\n",
       "      <td>0.621151</td>\n",
       "      <td>0.0</td>\n",
       "      <td>0.0</td>\n",
       "      <td>0.000000</td>\n",
       "      <td>0.000000</td>\n",
       "      <td>0.0</td>\n",
       "      <td>0.0</td>\n",
       "      <td>...</td>\n",
       "      <td>0.115823</td>\n",
       "      <td>0.0</td>\n",
       "      <td>0.0</td>\n",
       "      <td>0.0</td>\n",
       "      <td>0.0</td>\n",
       "      <td>0.0</td>\n",
       "      <td>0.0</td>\n",
       "      <td>0.0</td>\n",
       "      <td>0.0</td>\n",
       "      <td>0.0</td>\n",
       "    </tr>\n",
       "    <tr>\n",
       "      <th>4</th>\n",
       "      <td>0.0</td>\n",
       "      <td>0.0</td>\n",
       "      <td>0.0</td>\n",
       "      <td>0.000000</td>\n",
       "      <td>0.0</td>\n",
       "      <td>0.0</td>\n",
       "      <td>0.151705</td>\n",
       "      <td>0.000000</td>\n",
       "      <td>0.0</td>\n",
       "      <td>0.0</td>\n",
       "      <td>...</td>\n",
       "      <td>0.000000</td>\n",
       "      <td>0.0</td>\n",
       "      <td>0.0</td>\n",
       "      <td>0.0</td>\n",
       "      <td>0.0</td>\n",
       "      <td>0.0</td>\n",
       "      <td>0.0</td>\n",
       "      <td>0.0</td>\n",
       "      <td>0.0</td>\n",
       "      <td>0.0</td>\n",
       "    </tr>\n",
       "  </tbody>\n",
       "</table>\n",
       "<p>5 rows × 1000 columns</p>\n",
       "</div>"
      ],
      "text/plain": [
       "    10   11   12        13   14   15        18       1st   20  2012  ...  \\\n",
       "0  0.0  0.0  0.0  0.000000  0.0  0.0  0.000000  0.000000  0.0   0.0  ...   \n",
       "1  0.0  0.0  0.0  0.000000  0.0  0.0  0.000000  0.121432  0.0   0.0  ...   \n",
       "2  0.0  0.0  0.0  0.000000  0.0  0.0  0.000000  0.000000  0.0   0.0  ...   \n",
       "3  0.0  0.0  0.0  0.621151  0.0  0.0  0.000000  0.000000  0.0   0.0  ...   \n",
       "4  0.0  0.0  0.0  0.000000  0.0  0.0  0.151705  0.000000  0.0   0.0  ...   \n",
       "\n",
       "      woody  work  world  worth  wrap  wreck  xa0  year  yield  zesty  \n",
       "0  0.000000   0.0    0.0    0.0   0.0    0.0  0.0   0.0    0.0    0.0  \n",
       "1  0.000000   0.0    0.0    0.0   0.0    0.0  0.0   0.0    0.0    0.0  \n",
       "2  0.117434   0.0    0.0    0.0   0.0    0.0  0.0   0.0    0.0    0.0  \n",
       "3  0.115823   0.0    0.0    0.0   0.0    0.0  0.0   0.0    0.0    0.0  \n",
       "4  0.000000   0.0    0.0    0.0   0.0    0.0  0.0   0.0    0.0    0.0  \n",
       "\n",
       "[5 rows x 1000 columns]"
      ]
     },
     "execution_count": 10,
     "metadata": {},
     "output_type": "execute_result"
    }
   ],
   "source": [
    "from sklearn.feature_extraction.text import TfidfVectorizer\n",
    "\n",
    "vect = TfidfVectorizer(stop_words=nlp.Defaults.stop_words, max_features=1000)\n",
    "vect.fit(everyday_df['bow_col'].astype('str'))\n",
    "dtm = vect.transform(everyday_df['bow_col'].astype('str'))\n",
    "dtm = pd.DataFrame(dtm.todense(),columns=vect.get_feature_names())\n",
    "dtm.head()"
   ]
  },
  {
   "cell_type": "code",
   "execution_count": 11,
   "metadata": {
    "colab": {
     "base_uri": "https://localhost:8080/"
    },
    "id": "U7sQJJ0zR3Ey",
    "outputId": "a4a1b1e2-5a4d-45bd-d902-31f68162f31a"
   },
   "outputs": [
    {
     "data": {
      "text/plain": [
       "NearestNeighbors(algorithm='kd_tree', n_neighbors=10)"
      ]
     },
     "execution_count": 11,
     "metadata": {},
     "output_type": "execute_result"
    }
   ],
   "source": [
    "from sklearn.neighbors import NearestNeighbors\n",
    "\n",
    "nn = NearestNeighbors(n_neighbors=10, algorithm='kd_tree')\n",
    "nn.fit(dtm)"
   ]
  },
  {
   "cell_type": "code",
   "execution_count": 12,
   "metadata": {
    "id": "4gDSvLDovRN2"
   },
   "outputs": [],
   "source": [
    "random_pot = [\"I want something to take the edge off of my day, really mellow me out and help get me in the zone\"]"
   ]
  },
  {
   "cell_type": "code",
   "execution_count": 13,
   "metadata": {
    "id": "5U2ZiOk3R89z"
   },
   "outputs": [],
   "source": [
    "new = vect.transform(random_pot)"
   ]
  },
  {
   "cell_type": "code",
   "execution_count": 14,
   "metadata": {
    "colab": {
     "base_uri": "https://localhost:8080/"
    },
    "id": "CK2MlRBpvmNx",
    "outputId": "d7ded892-22f7-4a0a-97da-1355c8888e1f"
   },
   "outputs": [
    {
     "data": {
      "text/plain": [
       "(array([[1.        , 1.        , 1.        , 1.2184825 , 1.22524616,\n",
       "         1.25964668, 1.27678542, 1.28071757, 1.28319214, 1.2923116 ]]),\n",
       " array([[1653, 1651, 1652, 2318, 1785,  672,  166, 2251, 2068, 1124]]))"
      ]
     },
     "execution_count": 14,
     "metadata": {},
     "output_type": "execute_result"
    }
   ],
   "source": [
    "nn.kneighbors(new.todense())"
   ]
  },
  {
   "cell_type": "code",
   "execution_count": 15,
   "metadata": {
    "colab": {
     "base_uri": "https://localhost:8080/"
    },
    "id": "5x-DdjwVwmZf",
    "outputId": "95721985-010e-4c6f-e2a4-73c7c67720fe"
   },
   "outputs": [
    {
     "data": {
      "text/plain": [
       "['Relaxed',\n",
       " 'Focused',\n",
       " 'Uplifted',\n",
       " 'Talkative',\n",
       " 'Happy',\n",
       " 'Pine',\n",
       " 'Earthy',\n",
       " 'Spicy/Herbal',\n",
       " 'Suzy',\n",
       " 'Q',\n",
       " 'high',\n",
       " 'CBD',\n",
       " 'low',\n",
       " 'thc',\n",
       " 'strain',\n",
       " 'piney',\n",
       " 'taste',\n",
       " 'help',\n",
       " 'treat',\n",
       " 'symptom',\n",
       " 'little',\n",
       " 'high',\n",
       " 'great',\n",
       " 'strain',\n",
       " 'add',\n",
       " 'burgeon',\n",
       " 'world',\n",
       " 'CBD',\n",
       " 'strain',\n",
       " 'strain',\n",
       " 'test',\n",
       " 'upwards',\n",
       " '59:1',\n",
       " 'CBD',\n",
       " 'thc',\n",
       " 'hybrid',\n",
       " 'great',\n",
       " 'daytime',\n",
       " 'use',\n",
       " 'want',\n",
       " 'relieve',\n",
       " 'chronic',\n",
       " 'pain',\n",
       " 'nausea',\n",
       " 'arthritis',\n",
       " 'muscle',\n",
       " 'spasm',\n",
       " 'anxiety',\n",
       " 'psychoactive',\n",
       " 'effect',\n",
       " '\\xa0 \\xa0\\xa0']"
      ]
     },
     "execution_count": 15,
     "metadata": {},
     "output_type": "execute_result"
    }
   ],
   "source": [
    "everyday_df['bow_col'][2068]"
   ]
  },
  {
   "cell_type": "code",
   "execution_count": 16,
   "metadata": {
    "colab": {
     "base_uri": "https://localhost:8080/"
    },
    "id": "jQawZ0X61nNO",
    "outputId": "cd602919-c1cb-4c19-8929-877261ff7f43"
   },
   "outputs": [
    {
     "data": {
      "text/plain": [
       "4.5    323\n",
       "4.3    299\n",
       "4.4    287\n",
       "4.6    245\n",
       "4.2    227\n",
       "5.0    219\n",
       "4.7    166\n",
       "4.8    162\n",
       "4.0    109\n",
       "4.1    101\n",
       "4.9     61\n",
       "0.0     35\n",
       "3.9     29\n",
       "3.8     23\n",
       "3.7     16\n",
       "3.0     13\n",
       "3.6     11\n",
       "3.5     10\n",
       "3.4      5\n",
       "3.2      3\n",
       "3.3      3\n",
       "3.1      1\n",
       "2.5      1\n",
       "1.0      1\n",
       "2.8      1\n",
       "Name: Rating, dtype: int64"
      ]
     },
     "execution_count": 16,
     "metadata": {},
     "output_type": "execute_result"
    }
   ],
   "source": [
    "everyday_df['Rating'].value_counts()"
   ]
  },
  {
   "cell_type": "code",
   "execution_count": 29,
   "metadata": {
    "colab": {
     "base_uri": "https://localhost:8080/"
    },
    "id": "Qo_LhDrYxoD4",
    "outputId": "466874f9-8675-4fba-d5cf-a4593b907efa"
   },
   "outputs": [
    {
     "name": "stdout",
     "output_type": "stream",
     "text": [
      "Epoch 1/45\n",
      "32/32 [==============================] - 0s 3ms/step - loss: 3.0520 - accuracy: 0.0360 - val_loss: 2.7945 - val_accuracy: 0.0500\n",
      "Epoch 2/45\n",
      "32/32 [==============================] - 0s 1ms/step - loss: 2.4590 - accuracy: 0.0410 - val_loss: 2.0063 - val_accuracy: 0.0500\n",
      "Epoch 3/45\n",
      "32/32 [==============================] - 0s 1ms/step - loss: 1.6032 - accuracy: 0.0410 - val_loss: 1.1495 - val_accuracy: 0.0500\n",
      "Epoch 4/45\n",
      "32/32 [==============================] - 0s 1ms/step - loss: 0.9653 - accuracy: 0.0410 - val_loss: 0.7500 - val_accuracy: 0.0500\n",
      "Epoch 5/45\n",
      "32/32 [==============================] - 0s 1ms/step - loss: 0.7498 - accuracy: 0.0410 - val_loss: 0.6453 - val_accuracy: 0.0500\n",
      "Epoch 6/45\n",
      "32/32 [==============================] - 0s 1ms/step - loss: 0.6842 - accuracy: 0.0410 - val_loss: 0.6091 - val_accuracy: 0.0500\n",
      "Epoch 7/45\n",
      "32/32 [==============================] - 0s 1ms/step - loss: 0.6494 - accuracy: 0.0410 - val_loss: 0.5899 - val_accuracy: 0.0500\n",
      "Epoch 8/45\n",
      "32/32 [==============================] - 0s 1ms/step - loss: 0.6232 - accuracy: 0.0410 - val_loss: 0.5768 - val_accuracy: 0.0500\n",
      "Epoch 9/45\n",
      "32/32 [==============================] - 0s 1ms/step - loss: 0.6010 - accuracy: 0.0410 - val_loss: 0.5650 - val_accuracy: 0.0500\n",
      "Epoch 10/45\n",
      "32/32 [==============================] - 0s 1ms/step - loss: 0.5797 - accuracy: 0.0410 - val_loss: 0.5576 - val_accuracy: 0.0500\n",
      "Epoch 11/45\n",
      "32/32 [==============================] - 0s 1ms/step - loss: 0.5555 - accuracy: 0.0410 - val_loss: 0.5475 - val_accuracy: 0.0500\n",
      "Epoch 12/45\n",
      "32/32 [==============================] - 0s 1ms/step - loss: 0.5260 - accuracy: 0.0410 - val_loss: 0.5403 - val_accuracy: 0.0500\n",
      "Epoch 13/45\n",
      "32/32 [==============================] - 0s 1ms/step - loss: 0.4940 - accuracy: 0.0410 - val_loss: 0.5354 - val_accuracy: 0.0500\n",
      "Epoch 14/45\n",
      "32/32 [==============================] - 0s 1ms/step - loss: 0.4607 - accuracy: 0.0550 - val_loss: 0.5303 - val_accuracy: 0.0510\n",
      "Epoch 15/45\n",
      "32/32 [==============================] - 0s 1ms/step - loss: 0.4268 - accuracy: 0.0640 - val_loss: 0.5270 - val_accuracy: 0.0510\n",
      "Epoch 16/45\n",
      "32/32 [==============================] - 0s 1ms/step - loss: 0.3920 - accuracy: 0.0760 - val_loss: 0.5257 - val_accuracy: 0.0510\n",
      "Epoch 17/45\n",
      "32/32 [==============================] - 0s 1ms/step - loss: 0.3598 - accuracy: 0.0880 - val_loss: 0.5272 - val_accuracy: 0.0490\n",
      "Epoch 18/45\n",
      "32/32 [==============================] - 0s 2ms/step - loss: 0.3290 - accuracy: 0.0940 - val_loss: 0.5314 - val_accuracy: 0.0510\n",
      "Epoch 19/45\n",
      "32/32 [==============================] - 0s 1ms/step - loss: 0.2996 - accuracy: 0.1030 - val_loss: 0.5360 - val_accuracy: 0.0510\n",
      "Epoch 20/45\n",
      "32/32 [==============================] - 0s 1ms/step - loss: 0.2737 - accuracy: 0.1170 - val_loss: 0.5418 - val_accuracy: 0.0510\n",
      "Epoch 21/45\n",
      "32/32 [==============================] - 0s 1ms/step - loss: 0.2496 - accuracy: 0.1200 - val_loss: 0.5482 - val_accuracy: 0.0530\n",
      "Epoch 22/45\n",
      "32/32 [==============================] - 0s 1ms/step - loss: 0.2288 - accuracy: 0.1210 - val_loss: 0.5559 - val_accuracy: 0.0540\n",
      "Epoch 23/45\n",
      "32/32 [==============================] - 0s 1ms/step - loss: 0.2090 - accuracy: 0.1310 - val_loss: 0.5642 - val_accuracy: 0.0530\n",
      "Epoch 24/45\n",
      "32/32 [==============================] - 0s 1ms/step - loss: 0.1918 - accuracy: 0.1390 - val_loss: 0.5739 - val_accuracy: 0.0520\n",
      "Epoch 25/45\n",
      "32/32 [==============================] - 0s 2ms/step - loss: 0.1752 - accuracy: 0.1430 - val_loss: 0.5810 - val_accuracy: 0.0550\n",
      "Epoch 26/45\n",
      "32/32 [==============================] - 0s 2ms/step - loss: 0.1601 - accuracy: 0.1480 - val_loss: 0.5907 - val_accuracy: 0.0550\n",
      "Epoch 27/45\n",
      "32/32 [==============================] - 0s 1ms/step - loss: 0.1469 - accuracy: 0.1510 - val_loss: 0.5998 - val_accuracy: 0.0540\n",
      "Epoch 28/45\n",
      "32/32 [==============================] - 0s 1ms/step - loss: 0.1346 - accuracy: 0.1520 - val_loss: 0.6088 - val_accuracy: 0.0540\n",
      "Epoch 29/45\n",
      "32/32 [==============================] - 0s 1ms/step - loss: 0.1233 - accuracy: 0.1550 - val_loss: 0.6198 - val_accuracy: 0.0540\n",
      "Epoch 30/45\n",
      "32/32 [==============================] - 0s 1ms/step - loss: 0.1135 - accuracy: 0.1560 - val_loss: 0.6297 - val_accuracy: 0.0530\n",
      "Epoch 31/45\n",
      "32/32 [==============================] - 0s 1ms/step - loss: 0.1039 - accuracy: 0.1580 - val_loss: 0.6384 - val_accuracy: 0.0550\n",
      "Epoch 32/45\n",
      "32/32 [==============================] - 0s 1ms/step - loss: 0.0959 - accuracy: 0.1600 - val_loss: 0.6490 - val_accuracy: 0.0540\n",
      "Epoch 33/45\n",
      "32/32 [==============================] - 0s 1ms/step - loss: 0.0883 - accuracy: 0.1630 - val_loss: 0.6587 - val_accuracy: 0.0540\n",
      "Epoch 34/45\n",
      "32/32 [==============================] - 0s 2ms/step - loss: 0.0817 - accuracy: 0.1660 - val_loss: 0.6667 - val_accuracy: 0.0550\n",
      "Epoch 35/45\n",
      "32/32 [==============================] - 0s 1ms/step - loss: 0.0754 - accuracy: 0.1660 - val_loss: 0.6793 - val_accuracy: 0.0540\n",
      "Epoch 36/45\n",
      "32/32 [==============================] - 0s 2ms/step - loss: 0.0699 - accuracy: 0.1660 - val_loss: 0.6879 - val_accuracy: 0.0550\n",
      "Epoch 37/45\n",
      "32/32 [==============================] - 0s 1ms/step - loss: 0.0648 - accuracy: 0.1660 - val_loss: 0.6973 - val_accuracy: 0.0540\n",
      "Epoch 38/45\n",
      "32/32 [==============================] - 0s 1ms/step - loss: 0.0600 - accuracy: 0.1680 - val_loss: 0.7061 - val_accuracy: 0.0540\n",
      "Epoch 39/45\n",
      "32/32 [==============================] - 0s 1ms/step - loss: 0.0557 - accuracy: 0.1680 - val_loss: 0.7161 - val_accuracy: 0.0540\n",
      "Epoch 40/45\n",
      "32/32 [==============================] - 0s 1ms/step - loss: 0.0521 - accuracy: 0.1680 - val_loss: 0.7251 - val_accuracy: 0.0550\n",
      "Epoch 41/45\n",
      "32/32 [==============================] - 0s 1ms/step - loss: 0.0485 - accuracy: 0.1690 - val_loss: 0.7349 - val_accuracy: 0.0540\n",
      "Epoch 42/45\n",
      "32/32 [==============================] - 0s 1ms/step - loss: 0.0452 - accuracy: 0.1690 - val_loss: 0.7437 - val_accuracy: 0.0550\n",
      "Epoch 43/45\n",
      "32/32 [==============================] - 0s 1ms/step - loss: 0.0421 - accuracy: 0.1700 - val_loss: 0.7515 - val_accuracy: 0.0530\n",
      "Epoch 44/45\n",
      "32/32 [==============================] - 0s 2ms/step - loss: 0.0394 - accuracy: 0.1700 - val_loss: 0.7603 - val_accuracy: 0.0540\n",
      "Epoch 45/45\n",
      "32/32 [==============================] - 0s 1ms/step - loss: 0.0368 - accuracy: 0.1700 - val_loss: 0.7694 - val_accuracy: 0.0540\n"
     ]
    }
   ],
   "source": [
    "import numpy\n",
    "from sklearn.model_selection import GridSearchCV\n",
    "from tensorflow.keras.models import Sequential\n",
    "from tensorflow.keras.layers import Dense\n",
    "from tensorflow.keras.wrappers.scikit_learn import KerasClassifier\n",
    "from tensorflow.keras.layers import Dropout\n",
    "\n",
    "model = Sequential()\n",
    "\n",
    "n_nodes = 32\n",
    "model.add(Dense(n_nodes, activation=\"relu\", input_dim=1000))\n",
    "\n",
    "n_nodes_output = 25\n",
    "model.add(Dense(n_nodes_output, activation='softmax'))\n",
    "\n",
    "model.compile(optimizer='adam', loss='sparse_categorical_crossentropy', metrics=['accuracy'])\n",
    "\n",
    "results = model.fit(dtm[:1000], \n",
    "                    everyday_df['Rating'][:1000], \n",
    "                    epochs=45, \n",
    "                    validation_data=(dtm[1000:2000], everyday_df['Rating'][1000:2000]))\n",
    "\n",
    "#model_class = KerasClassifier(build_fn=model, verbose=1)\n",
    "\n",
    "#param_grid = {'batch_size': [32,64,512],\n",
    "#              'epochs': [3],\n",
    "#              'units':[32]}\n",
    "\n",
    "#grid = GridSearchCV(estimator=model_class, \n",
    "#                    param_grid=param_grid, \n",
    "#                    n_jobs=-1, \n",
    "#                    verbose=1)\n",
    "\n",
    "#grid_result = grid.fit(dtm[:1000], everyday_df['Rating'][:1000])\n",
    "\n",
    "#print(f\"Best: {grid_result.best_score_} using {grid_result.best_params_}\")\n",
    "#means = grid_result.cv_results_['mean_test_score']\n",
    "#stds = grid_result.cv_results_['std_test_score']\n",
    "#params = grid_result.cv_results_['params']\n",
    "\n",
    "#for mean, stdev, param in zip(means, stds, params):\n",
    "#    print(f\"Means: {mean}, Stdev: {stdev} with: {param}\")"
   ]
  },
  {
   "cell_type": "code",
   "execution_count": 20,
   "metadata": {
    "id": "x5jnUb1GDglS"
   },
   "outputs": [
    {
     "name": "stdout",
     "output_type": "stream",
     "text": [
      "Model: \"sequential_2\"\n",
      "_________________________________________________________________\n",
      "Layer (type)                 Output Shape              Param #   \n",
      "=================================================================\n",
      "dense_4 (Dense)              (None, 32)                32032     \n",
      "_________________________________________________________________\n",
      "dense_5 (Dense)              (None, 25)                825       \n",
      "=================================================================\n",
      "Total params: 32,857\n",
      "Trainable params: 32,857\n",
      "Non-trainable params: 0\n",
      "_________________________________________________________________\n"
     ]
    }
   ],
   "source": [
    "model.summary()"
   ]
  }
 ],
 "metadata": {
  "colab": {
   "name": "Untitled0.ipynb",
   "provenance": []
  },
  "kernelspec": {
   "display_name": "Python 3",
   "language": "python",
   "name": "python3"
  },
  "language_info": {
   "codemirror_mode": {
    "name": "ipython",
    "version": 3
   },
   "file_extension": ".py",
   "mimetype": "text/x-python",
   "name": "python",
   "nbconvert_exporter": "python",
   "pygments_lexer": "ipython3",
   "version": "3.8.5"
  }
 },
 "nbformat": 4,
 "nbformat_minor": 4
}
